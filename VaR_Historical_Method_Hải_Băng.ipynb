{
  "nbformat": 4,
  "nbformat_minor": 0,
  "metadata": {
    "colab": {
      "provenance": [],
      "authorship_tag": "ABX9TyNDevnkex6xqhWhiPsEBmvo",
      "include_colab_link": true
    },
    "kernelspec": {
      "name": "python3",
      "display_name": "Python 3"
    },
    "language_info": {
      "name": "python"
    }
  },
  "cells": [
    {
      "cell_type": "markdown",
      "metadata": {
        "id": "view-in-github",
        "colab_type": "text"
      },
      "source": [
        "<a href=\"https://colab.research.google.com/github/bangssbangg/nataliekarenina/blob/main/VaR_Historical_Method_H%E1%BA%A3i_B%C4%83ng.ipynb\" target=\"_parent\"><img src=\"https://colab.research.google.com/assets/colab-badge.svg\" alt=\"Open In Colab\"/></a>"
      ]
    },
    {
      "cell_type": "code",
      "execution_count": null,
      "metadata": {
        "id": "ZgTw1S7cZqoK"
      },
      "outputs": [],
      "source": [
        "import numpy as np\n",
        "import pandas as pd\n",
        "import datetime as dt\n",
        "import yfinance as yf\n",
        "import matplotlib.pyplot as plt\n",
        "from scipy.stats import norm\n"
      ]
    },
    {
      "cell_type": "code",
      "source": [
        "years = 15\n",
        "endDate = dt.datetime.now()\n",
        "startDate = endDate - dt.timedelta(days = 365*years)"
      ],
      "metadata": {
        "id": "p1_QN0BecXBY"
      },
      "execution_count": null,
      "outputs": []
    },
    {
      "cell_type": "code",
      "source": [
        "tickers = ['SPY','BND','GLD','QQQ','VTI']"
      ],
      "metadata": {
        "id": "X533G_-mc28D"
      },
      "execution_count": null,
      "outputs": []
    },
    {
      "cell_type": "code",
      "source": [
        "adj_close_df = pd.DataFrame()\n",
        "\n",
        "for ticker in tickers:\n",
        "    data =yf.download(ticker, start = startDate, end = endDate)\n",
        "    adj_close_df[ticker] = data['Close']\n",
        "\n",
        "adj_close_df.head()\n"
      ],
      "metadata": {
        "colab": {
          "base_uri": "https://localhost:8080/",
          "height": 324
        },
        "id": "riZuOrwrdKjY",
        "outputId": "90de9797-325a-4bac-f632-c586085c79e6"
      },
      "execution_count": null,
      "outputs": [
        {
          "output_type": "stream",
          "name": "stderr",
          "text": [
            "[*********************100%***********************]  1 of 1 completed\n",
            "[*********************100%***********************]  1 of 1 completed\n",
            "[*********************100%***********************]  1 of 1 completed\n",
            "[*********************100%***********************]  1 of 1 completed\n",
            "[*********************100%***********************]  1 of 1 completed\n"
          ]
        },
        {
          "output_type": "execute_result",
          "data": {
            "text/plain": [
              "                  SPY        BND         GLD        QQQ        VTI\n",
              "Date                                                              \n",
              "2010-05-24  81.850906  52.525455  116.839996  38.992390  42.010765\n",
              "2010-05-25  81.934479  52.538460  117.360001  39.027302  42.010765\n",
              "2010-05-26  81.440536  52.473408  118.470001  38.590771  41.835121\n",
              "2010-05-27  84.168648  52.271591  118.690002  40.048817  43.301430\n",
              "2010-05-28  83.112350  52.375755  118.879997  39.813091  42.835556"
            ],
            "text/html": [
              "\n",
              "  <div id=\"df-ee5f4925-c316-4305-a437-ea04c7344eab\" class=\"colab-df-container\">\n",
              "    <div>\n",
              "<style scoped>\n",
              "    .dataframe tbody tr th:only-of-type {\n",
              "        vertical-align: middle;\n",
              "    }\n",
              "\n",
              "    .dataframe tbody tr th {\n",
              "        vertical-align: top;\n",
              "    }\n",
              "\n",
              "    .dataframe thead th {\n",
              "        text-align: right;\n",
              "    }\n",
              "</style>\n",
              "<table border=\"1\" class=\"dataframe\">\n",
              "  <thead>\n",
              "    <tr style=\"text-align: right;\">\n",
              "      <th></th>\n",
              "      <th>SPY</th>\n",
              "      <th>BND</th>\n",
              "      <th>GLD</th>\n",
              "      <th>QQQ</th>\n",
              "      <th>VTI</th>\n",
              "    </tr>\n",
              "    <tr>\n",
              "      <th>Date</th>\n",
              "      <th></th>\n",
              "      <th></th>\n",
              "      <th></th>\n",
              "      <th></th>\n",
              "      <th></th>\n",
              "    </tr>\n",
              "  </thead>\n",
              "  <tbody>\n",
              "    <tr>\n",
              "      <th>2010-05-24</th>\n",
              "      <td>81.850906</td>\n",
              "      <td>52.525455</td>\n",
              "      <td>116.839996</td>\n",
              "      <td>38.992390</td>\n",
              "      <td>42.010765</td>\n",
              "    </tr>\n",
              "    <tr>\n",
              "      <th>2010-05-25</th>\n",
              "      <td>81.934479</td>\n",
              "      <td>52.538460</td>\n",
              "      <td>117.360001</td>\n",
              "      <td>39.027302</td>\n",
              "      <td>42.010765</td>\n",
              "    </tr>\n",
              "    <tr>\n",
              "      <th>2010-05-26</th>\n",
              "      <td>81.440536</td>\n",
              "      <td>52.473408</td>\n",
              "      <td>118.470001</td>\n",
              "      <td>38.590771</td>\n",
              "      <td>41.835121</td>\n",
              "    </tr>\n",
              "    <tr>\n",
              "      <th>2010-05-27</th>\n",
              "      <td>84.168648</td>\n",
              "      <td>52.271591</td>\n",
              "      <td>118.690002</td>\n",
              "      <td>40.048817</td>\n",
              "      <td>43.301430</td>\n",
              "    </tr>\n",
              "    <tr>\n",
              "      <th>2010-05-28</th>\n",
              "      <td>83.112350</td>\n",
              "      <td>52.375755</td>\n",
              "      <td>118.879997</td>\n",
              "      <td>39.813091</td>\n",
              "      <td>42.835556</td>\n",
              "    </tr>\n",
              "  </tbody>\n",
              "</table>\n",
              "</div>\n",
              "    <div class=\"colab-df-buttons\">\n",
              "\n",
              "  <div class=\"colab-df-container\">\n",
              "    <button class=\"colab-df-convert\" onclick=\"convertToInteractive('df-ee5f4925-c316-4305-a437-ea04c7344eab')\"\n",
              "            title=\"Convert this dataframe to an interactive table.\"\n",
              "            style=\"display:none;\">\n",
              "\n",
              "  <svg xmlns=\"http://www.w3.org/2000/svg\" height=\"24px\" viewBox=\"0 -960 960 960\">\n",
              "    <path d=\"M120-120v-720h720v720H120Zm60-500h600v-160H180v160Zm220 220h160v-160H400v160Zm0 220h160v-160H400v160ZM180-400h160v-160H180v160Zm440 0h160v-160H620v160ZM180-180h160v-160H180v160Zm440 0h160v-160H620v160Z\"/>\n",
              "  </svg>\n",
              "    </button>\n",
              "\n",
              "  <style>\n",
              "    .colab-df-container {\n",
              "      display:flex;\n",
              "      gap: 12px;\n",
              "    }\n",
              "\n",
              "    .colab-df-convert {\n",
              "      background-color: #E8F0FE;\n",
              "      border: none;\n",
              "      border-radius: 50%;\n",
              "      cursor: pointer;\n",
              "      display: none;\n",
              "      fill: #1967D2;\n",
              "      height: 32px;\n",
              "      padding: 0 0 0 0;\n",
              "      width: 32px;\n",
              "    }\n",
              "\n",
              "    .colab-df-convert:hover {\n",
              "      background-color: #E2EBFA;\n",
              "      box-shadow: 0px 1px 2px rgba(60, 64, 67, 0.3), 0px 1px 3px 1px rgba(60, 64, 67, 0.15);\n",
              "      fill: #174EA6;\n",
              "    }\n",
              "\n",
              "    .colab-df-buttons div {\n",
              "      margin-bottom: 4px;\n",
              "    }\n",
              "\n",
              "    [theme=dark] .colab-df-convert {\n",
              "      background-color: #3B4455;\n",
              "      fill: #D2E3FC;\n",
              "    }\n",
              "\n",
              "    [theme=dark] .colab-df-convert:hover {\n",
              "      background-color: #434B5C;\n",
              "      box-shadow: 0px 1px 3px 1px rgba(0, 0, 0, 0.15);\n",
              "      filter: drop-shadow(0px 1px 2px rgba(0, 0, 0, 0.3));\n",
              "      fill: #FFFFFF;\n",
              "    }\n",
              "  </style>\n",
              "\n",
              "    <script>\n",
              "      const buttonEl =\n",
              "        document.querySelector('#df-ee5f4925-c316-4305-a437-ea04c7344eab button.colab-df-convert');\n",
              "      buttonEl.style.display =\n",
              "        google.colab.kernel.accessAllowed ? 'block' : 'none';\n",
              "\n",
              "      async function convertToInteractive(key) {\n",
              "        const element = document.querySelector('#df-ee5f4925-c316-4305-a437-ea04c7344eab');\n",
              "        const dataTable =\n",
              "          await google.colab.kernel.invokeFunction('convertToInteractive',\n",
              "                                                    [key], {});\n",
              "        if (!dataTable) return;\n",
              "\n",
              "        const docLinkHtml = 'Like what you see? Visit the ' +\n",
              "          '<a target=\"_blank\" href=https://colab.research.google.com/notebooks/data_table.ipynb>data table notebook</a>'\n",
              "          + ' to learn more about interactive tables.';\n",
              "        element.innerHTML = '';\n",
              "        dataTable['output_type'] = 'display_data';\n",
              "        await google.colab.output.renderOutput(dataTable, element);\n",
              "        const docLink = document.createElement('div');\n",
              "        docLink.innerHTML = docLinkHtml;\n",
              "        element.appendChild(docLink);\n",
              "      }\n",
              "    </script>\n",
              "  </div>\n",
              "\n",
              "\n",
              "    <div id=\"df-32463a53-2ff4-4690-8037-f49b3ac5cd56\">\n",
              "      <button class=\"colab-df-quickchart\" onclick=\"quickchart('df-32463a53-2ff4-4690-8037-f49b3ac5cd56')\"\n",
              "                title=\"Suggest charts\"\n",
              "                style=\"display:none;\">\n",
              "\n",
              "<svg xmlns=\"http://www.w3.org/2000/svg\" height=\"24px\"viewBox=\"0 0 24 24\"\n",
              "     width=\"24px\">\n",
              "    <g>\n",
              "        <path d=\"M19 3H5c-1.1 0-2 .9-2 2v14c0 1.1.9 2 2 2h14c1.1 0 2-.9 2-2V5c0-1.1-.9-2-2-2zM9 17H7v-7h2v7zm4 0h-2V7h2v10zm4 0h-2v-4h2v4z\"/>\n",
              "    </g>\n",
              "</svg>\n",
              "      </button>\n",
              "\n",
              "<style>\n",
              "  .colab-df-quickchart {\n",
              "      --bg-color: #E8F0FE;\n",
              "      --fill-color: #1967D2;\n",
              "      --hover-bg-color: #E2EBFA;\n",
              "      --hover-fill-color: #174EA6;\n",
              "      --disabled-fill-color: #AAA;\n",
              "      --disabled-bg-color: #DDD;\n",
              "  }\n",
              "\n",
              "  [theme=dark] .colab-df-quickchart {\n",
              "      --bg-color: #3B4455;\n",
              "      --fill-color: #D2E3FC;\n",
              "      --hover-bg-color: #434B5C;\n",
              "      --hover-fill-color: #FFFFFF;\n",
              "      --disabled-bg-color: #3B4455;\n",
              "      --disabled-fill-color: #666;\n",
              "  }\n",
              "\n",
              "  .colab-df-quickchart {\n",
              "    background-color: var(--bg-color);\n",
              "    border: none;\n",
              "    border-radius: 50%;\n",
              "    cursor: pointer;\n",
              "    display: none;\n",
              "    fill: var(--fill-color);\n",
              "    height: 32px;\n",
              "    padding: 0;\n",
              "    width: 32px;\n",
              "  }\n",
              "\n",
              "  .colab-df-quickchart:hover {\n",
              "    background-color: var(--hover-bg-color);\n",
              "    box-shadow: 0 1px 2px rgba(60, 64, 67, 0.3), 0 1px 3px 1px rgba(60, 64, 67, 0.15);\n",
              "    fill: var(--button-hover-fill-color);\n",
              "  }\n",
              "\n",
              "  .colab-df-quickchart-complete:disabled,\n",
              "  .colab-df-quickchart-complete:disabled:hover {\n",
              "    background-color: var(--disabled-bg-color);\n",
              "    fill: var(--disabled-fill-color);\n",
              "    box-shadow: none;\n",
              "  }\n",
              "\n",
              "  .colab-df-spinner {\n",
              "    border: 2px solid var(--fill-color);\n",
              "    border-color: transparent;\n",
              "    border-bottom-color: var(--fill-color);\n",
              "    animation:\n",
              "      spin 1s steps(1) infinite;\n",
              "  }\n",
              "\n",
              "  @keyframes spin {\n",
              "    0% {\n",
              "      border-color: transparent;\n",
              "      border-bottom-color: var(--fill-color);\n",
              "      border-left-color: var(--fill-color);\n",
              "    }\n",
              "    20% {\n",
              "      border-color: transparent;\n",
              "      border-left-color: var(--fill-color);\n",
              "      border-top-color: var(--fill-color);\n",
              "    }\n",
              "    30% {\n",
              "      border-color: transparent;\n",
              "      border-left-color: var(--fill-color);\n",
              "      border-top-color: var(--fill-color);\n",
              "      border-right-color: var(--fill-color);\n",
              "    }\n",
              "    40% {\n",
              "      border-color: transparent;\n",
              "      border-right-color: var(--fill-color);\n",
              "      border-top-color: var(--fill-color);\n",
              "    }\n",
              "    60% {\n",
              "      border-color: transparent;\n",
              "      border-right-color: var(--fill-color);\n",
              "    }\n",
              "    80% {\n",
              "      border-color: transparent;\n",
              "      border-right-color: var(--fill-color);\n",
              "      border-bottom-color: var(--fill-color);\n",
              "    }\n",
              "    90% {\n",
              "      border-color: transparent;\n",
              "      border-bottom-color: var(--fill-color);\n",
              "    }\n",
              "  }\n",
              "</style>\n",
              "\n",
              "      <script>\n",
              "        async function quickchart(key) {\n",
              "          const quickchartButtonEl =\n",
              "            document.querySelector('#' + key + ' button');\n",
              "          quickchartButtonEl.disabled = true;  // To prevent multiple clicks.\n",
              "          quickchartButtonEl.classList.add('colab-df-spinner');\n",
              "          try {\n",
              "            const charts = await google.colab.kernel.invokeFunction(\n",
              "                'suggestCharts', [key], {});\n",
              "          } catch (error) {\n",
              "            console.error('Error during call to suggestCharts:', error);\n",
              "          }\n",
              "          quickchartButtonEl.classList.remove('colab-df-spinner');\n",
              "          quickchartButtonEl.classList.add('colab-df-quickchart-complete');\n",
              "        }\n",
              "        (() => {\n",
              "          let quickchartButtonEl =\n",
              "            document.querySelector('#df-32463a53-2ff4-4690-8037-f49b3ac5cd56 button');\n",
              "          quickchartButtonEl.style.display =\n",
              "            google.colab.kernel.accessAllowed ? 'block' : 'none';\n",
              "        })();\n",
              "      </script>\n",
              "    </div>\n",
              "\n",
              "    </div>\n",
              "  </div>\n"
            ],
            "application/vnd.google.colaboratory.intrinsic+json": {
              "type": "dataframe",
              "variable_name": "adj_close_df",
              "summary": "{\n  \"name\": \"adj_close_df\",\n  \"rows\": 3770,\n  \"fields\": [\n    {\n      \"column\": \"Date\",\n      \"properties\": {\n        \"dtype\": \"date\",\n        \"min\": \"2010-05-24 00:00:00\",\n        \"max\": \"2025-05-16 00:00:00\",\n        \"num_unique_values\": 3770,\n        \"samples\": [\n          \"2018-07-19 00:00:00\",\n          \"2022-07-08 00:00:00\",\n          \"2011-04-06 00:00:00\"\n        ],\n        \"semantic_type\": \"\",\n        \"description\": \"\"\n      }\n    },\n    {\n      \"column\": \"SPY\",\n      \"properties\": {\n        \"dtype\": \"number\",\n        \"std\": 139.37421558344587,\n        \"min\": 78.03323364257812,\n        \"max\": 611.0916748046875,\n        \"num_unique_values\": 3690,\n        \"samples\": [\n          566.1953735351562,\n          587.7219848632812,\n          104.87110900878906\n        ],\n        \"semantic_type\": \"\",\n        \"description\": \"\"\n      }\n    },\n    {\n      \"column\": \"BND\",\n      \"properties\": {\n        \"dtype\": \"number\",\n        \"std\": 6.527805282118591,\n        \"min\": 52.27159118652344,\n        \"max\": 78.08061218261719,\n        \"num_unique_values\": 3400,\n        \"samples\": [\n          57.248748779296875,\n          58.41810989379883,\n          72.43019104003906\n        ],\n        \"semantic_type\": \"\",\n        \"description\": \"\"\n      }\n    },\n    {\n      \"column\": \"GLD\",\n      \"properties\": {\n        \"dtype\": \"number\",\n        \"std\": 36.98431003467638,\n        \"min\": 100.5,\n        \"max\": 315.5899963378906,\n        \"num_unique_values\": 3022,\n        \"samples\": [\n          125.02999877929688,\n          165.8000030517578,\n          158.05999755859375\n        ],\n        \"semantic_type\": \"\",\n        \"description\": \"\"\n      }\n    },\n    {\n      \"column\": \"QQQ\",\n      \"properties\": {\n        \"dtype\": \"number\",\n        \"std\": 135.107544784323,\n        \"min\": 37.223628997802734,\n        \"max\": 538.7166748046875,\n        \"num_unique_values\": 3679,\n        \"samples\": [\n          159.96871948242188,\n          106.69007873535156,\n          223.48440551757812\n        ],\n        \"semantic_type\": \"\",\n        \"description\": \"\"\n      }\n    },\n    {\n      \"column\": \"VTI\",\n      \"properties\": {\n        \"dtype\": \"number\",\n        \"std\": 68.72135213387993,\n        \"min\": 39.96540069580078,\n        \"max\": 302.0580749511719,\n        \"num_unique_values\": 3656,\n        \"samples\": [\n          53.49599838256836,\n          88.75481414794922,\n          84.82269287109375\n        ],\n        \"semantic_type\": \"\",\n        \"description\": \"\"\n      }\n    }\n  ]\n}"
            }
          },
          "metadata": {},
          "execution_count": 18
        }
      ]
    },
    {
      "cell_type": "code",
      "source": [
        "log_returns = np.log(adj_close_df/adj_close_df.shift(1))\n",
        "log_returns = log_returns.dropna()\n",
        "\n",
        "print(log_returns)"
      ],
      "metadata": {
        "colab": {
          "base_uri": "https://localhost:8080/"
        },
        "id": "fxYHG704nxu5",
        "outputId": "a01ba9f1-c0fe-4b02-f1c7-14f23d4087d2"
      },
      "execution_count": null,
      "outputs": [
        {
          "output_type": "stream",
          "name": "stdout",
          "text": [
            "                 SPY       BND       GLD       QQQ       VTI\n",
            "Date                                                        \n",
            "2010-05-25  0.001021  0.000248  0.004441  0.000895  0.000000\n",
            "2010-05-26 -0.006047 -0.001239  0.009414 -0.011248 -0.004190\n",
            "2010-05-27  0.032949 -0.003853  0.001855  0.037086  0.034449\n",
            "2010-05-28 -0.012629  0.001991  0.001599 -0.005903 -0.010817\n",
            "2010-06-01 -0.016966  0.000798  0.008627 -0.009253 -0.020898\n",
            "...              ...       ...       ...       ...       ...\n",
            "2025-05-12  0.032513 -0.003451 -0.028596  0.039932  0.032909\n",
            "2025-05-13  0.006582 -0.000415  0.004250  0.015126  0.006765\n",
            "2025-05-14  0.001277 -0.003464 -0.021262  0.005975  0.000657\n",
            "2025-05-15  0.004872  0.005399  0.015838  0.001098  0.004069\n",
            "2025-05-16  0.006314  0.000690 -0.012161  0.004343  0.006825\n",
            "\n",
            "[3769 rows x 5 columns]\n"
          ]
        }
      ]
    },
    {
      "cell_type": "markdown",
      "source": [
        "Creat an equally weighted portforlio"
      ],
      "metadata": {
        "id": "EpfzaXwWqvSQ"
      }
    },
    {
      "cell_type": "code",
      "source": [
        "portfolio_value = 1000000\n",
        "weights = np.array([1/len(tickers)]*len(tickers))\n",
        "print(weights)"
      ],
      "metadata": {
        "colab": {
          "base_uri": "https://localhost:8080/"
        },
        "id": "-YbwfdCnquw1",
        "outputId": "352c2f66-6d0b-4e06-ec12-630726309ed0"
      },
      "execution_count": null,
      "outputs": [
        {
          "output_type": "stream",
          "name": "stdout",
          "text": [
            "[0.2 0.2 0.2 0.2 0.2]\n"
          ]
        }
      ]
    },
    {
      "cell_type": "markdown",
      "source": [
        "Calculate the historical portfolio returns"
      ],
      "metadata": {
        "id": "QSlHR4d1rZCX"
      }
    },
    {
      "cell_type": "code",
      "source": [
        "historical_returns = (log_returns * weights).sum(axis=1)\n",
        "print(historical_returns)"
      ],
      "metadata": {
        "colab": {
          "base_uri": "https://localhost:8080/"
        },
        "id": "b-Y0dS2mrjJV",
        "outputId": "0d70ecb7-0848-4b0a-f850-01f3002f4f43"
      },
      "execution_count": null,
      "outputs": [
        {
          "output_type": "stream",
          "name": "stdout",
          "text": [
            "Date\n",
            "2010-05-25    0.001321\n",
            "2010-05-26   -0.002662\n",
            "2010-05-27    0.020497\n",
            "2010-05-28   -0.005152\n",
            "2010-06-01   -0.007539\n",
            "                ...   \n",
            "2025-05-12    0.014662\n",
            "2025-05-13    0.006462\n",
            "2025-05-14   -0.003363\n",
            "2025-05-15    0.006255\n",
            "2025-05-16    0.001202\n",
            "Length: 3769, dtype: float64\n"
          ]
        }
      ]
    },
    {
      "cell_type": "markdown",
      "source": [
        "Find the X-day historical returns"
      ],
      "metadata": {
        "id": "dgfYpxSTsAzg"
      }
    },
    {
      "cell_type": "code",
      "source": [
        "days = 5\n",
        "range_returns = historical_returns.rolling(window = days).sum()\n",
        "range_returns = range_returns.dropna()\n",
        "print(range_returns)"
      ],
      "metadata": {
        "colab": {
          "base_uri": "https://localhost:8080/"
        },
        "id": "A8tOcoCusH0B",
        "outputId": "795f97e4-88e8-4c42-dd37-c5e9a6b5340e"
      },
      "execution_count": null,
      "outputs": [
        {
          "output_type": "stream",
          "name": "stdout",
          "text": [
            "Date\n",
            "2010-06-01    0.006466\n",
            "2010-06-02    0.019716\n",
            "2010-06-03    0.022734\n",
            "2010-06-04   -0.016418\n",
            "2010-06-07   -0.016282\n",
            "                ...   \n",
            "2025-05-12    0.016225\n",
            "2025-05-13    0.021897\n",
            "2025-05-14    0.018720\n",
            "2025-05-15    0.025017\n",
            "2025-05-16    0.025217\n",
            "Length: 3765, dtype: float64\n"
          ]
        }
      ]
    },
    {
      "cell_type": "markdown",
      "source": [
        "Specify a confidence interval and calculate the Value at Risk"
      ],
      "metadata": {
        "id": "pWkJi0YKshf_"
      }
    },
    {
      "cell_type": "code",
      "source": [
        "confidence_interval = 0.95\n",
        "VaR = -np.percentile(range_returns, 100 - (confidence_interval*100))*portfolio_value\n",
        "print(VaR)"
      ],
      "metadata": {
        "colab": {
          "base_uri": "https://localhost:8080/"
        },
        "id": "qqv4NeeEs41H",
        "outputId": "169d9fa2-7996-4882-cd29-9ded9d027035"
      },
      "execution_count": null,
      "outputs": [
        {
          "output_type": "stream",
          "name": "stdout",
          "text": [
            "24026.87208324584\n"
          ]
        }
      ]
    },
    {
      "cell_type": "markdown",
      "source": [
        "Plot the results of the historical return"
      ],
      "metadata": {
        "id": "XObF5ikQttYk"
      }
    },
    {
      "cell_type": "code",
      "source": [
        "return_window = days\n",
        "range_returns = historical_returns.rolling(window=return_window).sum()\n",
        "range_returns = range_returns.dropna()\n",
        "\n",
        "range_returns_dollar = range_returns * portfolio_value\n",
        "\n",
        "plt.hist(range_returns_dollar.dropna(), bins=50, density=True)\n",
        "plt.xlabel(f'{return_window} - Day Portfolio Return (Dollar Value)')\n",
        "plt.ylabel('Frequency')\n",
        "plt.title(f'Distribution of Portfolio {return_window} - Day Returns(Dollar Value)')\n",
        "plt.axvline(-VaR, color = 'r', linestyle='dashed', linewidth=2, label=f'VaR at {confidence_interval:.0%} confidence level')\n",
        "plt.legend()\n",
        "plt.show()"
      ],
      "metadata": {
        "colab": {
          "base_uri": "https://localhost:8080/",
          "height": 487
        },
        "id": "BtQmI0MKtw3W",
        "outputId": "7af25f95-b52d-4cbc-827a-8650d6364a0a"
      },
      "execution_count": null,
      "outputs": [
        {
          "output_type": "display_data",
          "data": {
            "text/plain": [
              "<Figure size 640x480 with 1 Axes>"
            ],
            "image/png": "[encoded data removed]"
          },
          "metadata": {}
        }
      ]
    }
  ]
}